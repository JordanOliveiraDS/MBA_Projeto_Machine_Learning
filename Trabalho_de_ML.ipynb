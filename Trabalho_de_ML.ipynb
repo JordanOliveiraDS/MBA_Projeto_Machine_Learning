{
  "nbformat": 4,
  "nbformat_minor": 0,
  "metadata": {
    "colab": {
      "provenance": [],
      "mount_file_id": "1kMyWq7KZ7SYmsnFZ1avjU2VKYYiciooF",
      "authorship_tag": "ABX9TyOyNcZZmvGzR+oY5KM2tB4L",
      "include_colab_link": true
    },
    "kernelspec": {
      "name": "python3",
      "display_name": "Python 3"
    },
    "language_info": {
      "name": "python"
    }
  },
  "cells": [
    {
      "cell_type": "markdown",
      "metadata": {
        "id": "view-in-github",
        "colab_type": "text"
      },
      "source": [
        "<a href=\"https://colab.research.google.com/github/JordanOliveiraDS/MBA_Projeto_Machine_Learninga/blob/main/Trabalho_de_ML.ipynb\" target=\"_parent\"><img src=\"https://colab.research.google.com/assets/colab-badge.svg\" alt=\"Open In Colab\"/></a>"
      ]
    },
    {
      "cell_type": "code",
      "execution_count": null,
      "metadata": {
        "id": "qf_iW3gOSPQy"
      },
      "outputs": [],
      "source": [
        "# Carregando o conjunto de dados\n",
        "\n",
        "import pandas as pd"
      ]
    },
    {
      "cell_type": "code",
      "source": [
        "arquivo = pd.read_csv('/content/drive/MyDrive/Trabalhos/wine_dataset.csv')"
      ],
      "metadata": {
        "id": "gwSRI2j8WQtu"
      },
      "execution_count": null,
      "outputs": []
    },
    {
      "cell_type": "code",
      "source": [
        "arquivo.head()"
      ],
      "metadata": {
        "id": "m-gCLFKeS0Tg"
      },
      "execution_count": null,
      "outputs": []
    },
    {
      "cell_type": "code",
      "source": [
        "arquivo['style'] = arquivo['style'].replace('red',0)"
      ],
      "metadata": {
        "id": "YMgRKBMAS5fN"
      },
      "execution_count": null,
      "outputs": []
    },
    {
      "cell_type": "code",
      "source": [
        "arquivo['style'] = arquivo['style'].replace('white',1)"
      ],
      "metadata": {
        "id": "y-BLHqgNTMdy"
      },
      "execution_count": null,
      "outputs": []
    },
    {
      "cell_type": "code",
      "source": [
        "# Separando as variáveis entre preditoras e variável alvo\n",
        "\n",
        "y = arquivo['style']\n",
        "x = arquivo.drop('style',axis = 1)"
      ],
      "metadata": {
        "id": "sVNdIoCzXTlB"
      },
      "execution_count": null,
      "outputs": []
    },
    {
      "cell_type": "code",
      "source": [
        "from sklearn.model_selection import train_test_split\n",
        "#Criando o conjunto de dados do treino e teste\n",
        "\n",
        "x_treino, x_teste, y_treino, y_teste = train_test_split(x, y, test_size = 0.3)\n"
      ],
      "metadata": {
        "id": "9EC-eyCsX6V-"
      },
      "execution_count": null,
      "outputs": []
    },
    {
      "cell_type": "code",
      "source": [
        "#Importando o algoritimo de árvore de decisão\n",
        "\n",
        "from sklearn.ensemble import ExtraTreesClassifier\n",
        "\n",
        "#Criação do modelo\n",
        "\n",
        "modelo = ExtraTreesClassifier()\n",
        "modelo.fit(x_treino,y_treino)\n",
        "\n",
        "#Imprimindo resultados\n",
        "\n",
        "resultado = modelo.score(x_teste,y_teste)\n",
        "print(\"Acurácia:\", resultado)"
      ],
      "metadata": {
        "colab": {
          "base_uri": "https://localhost:8080/"
        },
        "id": "WjIJq8VAkwqt",
        "outputId": "afa9d26f-798a-444d-c819-a0c6d2e422e7"
      },
      "execution_count": null,
      "outputs": [
        {
          "output_type": "stream",
          "name": "stdout",
          "text": [
            "Acurácia: 0.9984615384615385\n"
          ]
        }
      ]
    },
    {
      "cell_type": "code",
      "source": [
        "y_teste[400:403]"
      ],
      "metadata": {
        "colab": {
          "base_uri": "https://localhost:8080/"
        },
        "id": "58v-Spq6m962",
        "outputId": "a518f56a-c855-40b7-dcba-a3c8a40c2439"
      },
      "execution_count": null,
      "outputs": [
        {
          "output_type": "execute_result",
          "data": {
            "text/plain": [
              "6112    1\n",
              "5560    1\n",
              "3749    1\n",
              "Name: style, dtype: int64"
            ]
          },
          "metadata": {},
          "execution_count": 19
        }
      ]
    },
    {
      "cell_type": "code",
      "source": [
        "x_teste[400:403]"
      ],
      "metadata": {
        "id": "af0L6QypnCOa"
      },
      "execution_count": null,
      "outputs": []
    },
    {
      "cell_type": "code",
      "source": [
        "previsoes = modelo.predict(x_teste[400:403])"
      ],
      "metadata": {
        "id": "-JIfAs3TnGaW"
      },
      "execution_count": null,
      "outputs": []
    },
    {
      "cell_type": "code",
      "source": [
        "previsoes"
      ],
      "metadata": {
        "colab": {
          "base_uri": "https://localhost:8080/"
        },
        "id": "jjTLZALLnx0B",
        "outputId": "3e9c62c6-f3e1-4b93-942e-e3cc9ac36b01"
      },
      "execution_count": null,
      "outputs": [
        {
          "output_type": "execute_result",
          "data": {
            "text/plain": [
              "array([1, 1, 1])"
            ]
          },
          "metadata": {},
          "execution_count": 22
        }
      ]
    }
  ]
}